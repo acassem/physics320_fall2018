{
 "cells": [
  {
   "cell_type": "code",
   "execution_count": 1,
   "metadata": {},
   "outputs": [
    {
     "name": "stdout",
     "output_type": "stream",
     "text": [
      "files available are:  ['gapminder_all.csv', 'gapminder_gdp_africa.csv', 'gapminder_gdp_americas.csv', 'gapminder_gdp_asia.csv', 'gapminder_gdp_europe.csv', 'gapminder_gdp_oceania.csv']\n"
     ]
    }
   ],
   "source": [
    "# make sure I'm looking in the right place for data \n",
    "file_path=\"07_gapminder_data/data/\"\n",
    "import os\n",
    "files=os.listdir(file_path)\n",
    "print(\"files available are: \",files)"
   ]
  },
  {
   "cell_type": "code",
   "execution_count": 2,
   "metadata": {},
   "outputs": [],
   "source": [
    "# open up the europe datafile\n",
    "import pandas\n",
    "file_to_open=file_path + \"/\" + files[4]\n",
    "data = pandas.read_csv(file_to_open,index_col=\"country\")"
   ]
  },
  {
   "cell_type": "code",
   "execution_count": 3,
   "metadata": {},
   "outputs": [
    {
     "name": "stdout",
     "output_type": "stream",
     "text": [
      "                        gdpPercap_1952  gdpPercap_1957  gdpPercap_1962  \\\n",
      "country                                                                  \n",
      "Albania                    1601.056136     1942.284244     2312.888958   \n",
      "Austria                    6137.076492     8842.598030    10750.721110   \n",
      "Belgium                    8343.105127     9714.960623    10991.206760   \n",
      "Bosnia and Herzegovina      973.533195     1353.989176     1709.683679   \n",
      "Bulgaria                   2444.286648     3008.670727     4254.337839   \n",
      "Croatia                    3119.236520     4338.231617     5477.890018   \n",
      "Czech Republic             6876.140250     8256.343918    10136.867130   \n",
      "Denmark                    9692.385245    11099.659350    13583.313510   \n",
      "Finland                    6424.519071     7545.415386     9371.842561   \n",
      "France                     7029.809327     8662.834898    10560.485530   \n",
      "Germany                    7144.114393    10187.826650    12902.462910   \n",
      "Greece                     3530.690067     4916.299889     6017.190733   \n",
      "Hungary                    5263.673816     6040.180011     7550.359877   \n",
      "Iceland                    7267.688428     9244.001412    10350.159060   \n",
      "Ireland                    5210.280328     5599.077872     6631.597314   \n",
      "Italy                      4931.404155     6248.656232     8243.582340   \n",
      "Montenegro                 2647.585601     3682.259903     4649.593785   \n",
      "Netherlands                8941.571858    11276.193440    12790.849560   \n",
      "Norway                    10095.421720    11653.973040    13450.401510   \n",
      "Poland                     4029.329699     4734.253019     5338.752143   \n",
      "Portugal                   3068.319867     3774.571743     4727.954889   \n",
      "Romania                    3144.613186     3943.370225     4734.997586   \n",
      "Serbia                     3581.459448     4981.090891     6289.629157   \n",
      "Slovak Republic            5074.659104     6093.262980     7481.107598   \n",
      "Slovenia                   4215.041741     5862.276629     7402.303395   \n",
      "Spain                      3834.034742     4564.802410     5693.843879   \n",
      "Sweden                     8527.844662     9911.878226    12329.441920   \n",
      "Switzerland               14734.232750    17909.489730    20431.092700   \n",
      "Turkey                     1969.100980     2218.754257     2322.869908   \n",
      "United Kingdom             9979.508487    11283.177950    12477.177070   \n",
      "\n",
      "                        gdpPercap_1967  gdpPercap_1972  gdpPercap_1977  \\\n",
      "country                                                                  \n",
      "Albania                    2760.196931     3313.422188     3533.003910   \n",
      "Austria                   12834.602400    16661.625600    19749.422300   \n",
      "Belgium                   13149.041190    16672.143560    19117.974480   \n",
      "Bosnia and Herzegovina     2172.352423     2860.169750     3528.481305   \n",
      "Bulgaria                   5577.002800     6597.494398     7612.240438   \n",
      "Croatia                    6960.297861     9164.090127    11305.385170   \n",
      "Czech Republic            11399.444890    13108.453600    14800.160620   \n",
      "Denmark                   15937.211230    18866.207210    20422.901500   \n",
      "Finland                   10921.636260    14358.875900    15605.422830   \n",
      "France                    12999.917660    16107.191710    18292.635140   \n",
      "Germany                   14745.625610    18016.180270    20512.921230   \n",
      "Greece                     8513.097016    12724.829570    14195.524280   \n",
      "Hungary                    9326.644670    10168.656110    11674.837370   \n",
      "Iceland                   13319.895680    15798.063620    19654.962470   \n",
      "Ireland                    7655.568963     9530.772896    11150.981130   \n",
      "Italy                     10022.401310    12269.273780    14255.984750   \n",
      "Montenegro                 5907.850937     7778.414017     9595.929905   \n",
      "Netherlands               15363.251360    18794.745670    21209.059200   \n",
      "Norway                    16361.876470    18965.055510    23311.349390   \n",
      "Poland                     6557.152776     8006.506993     9508.141454   \n",
      "Portugal                   6361.517993     9022.247417    10172.485720   \n",
      "Romania                    6470.866545     8011.414402     9356.397240   \n",
      "Serbia                     7991.707066    10522.067490    12980.669560   \n",
      "Slovak Republic            8412.902397     9674.167626    10922.664040   \n",
      "Slovenia                   9405.489397    12383.486200    15277.030170   \n",
      "Spain                      7993.512294    10638.751310    13236.921170   \n",
      "Sweden                    15258.296970    17832.024640    18855.725210   \n",
      "Switzerland               22966.144320    27195.113040    26982.290520   \n",
      "Turkey                     2826.356387     3450.696380     4269.122326   \n",
      "United Kingdom            14142.850890    15895.116410    17428.748460   \n",
      "\n",
      "                        gdpPercap_1982  gdpPercap_1987  gdpPercap_1992  \\\n",
      "country                                                                  \n",
      "Albania                    3630.880722     3738.932735     2497.437901   \n",
      "Austria                   21597.083620    23687.826070    27042.018680   \n",
      "Belgium                   20979.845890    22525.563080    25575.570690   \n",
      "Bosnia and Herzegovina     4126.613157     4314.114757     2546.781445   \n",
      "Bulgaria                   8224.191647     8239.854824     6302.623438   \n",
      "Croatia                   13221.821840    13822.583940     8447.794873   \n",
      "Czech Republic            15377.228550    16310.443400    14297.021220   \n",
      "Denmark                   21688.040480    25116.175810    26406.739850   \n",
      "Finland                   18533.157610    21141.012230    20647.164990   \n",
      "France                    20293.897460    22066.442140    24703.796150   \n",
      "Germany                   22031.532740    24639.185660    26505.303170   \n",
      "Greece                    15268.420890    16120.528390    17541.496340   \n",
      "Hungary                   12545.990660    12986.479980    10535.628550   \n",
      "Iceland                   23269.607500    26923.206280    25144.392010   \n",
      "Ireland                   12618.321410    13872.866520    17558.815550   \n",
      "Italy                     16537.483500    19207.234820    22013.644860   \n",
      "Montenegro                11222.587620    11732.510170     7003.339037   \n",
      "Netherlands               21399.460460    23651.323610    26790.949610   \n",
      "Norway                    26298.635310    31540.974800    33965.661150   \n",
      "Poland                     8451.531004     9082.351172     7738.881247   \n",
      "Portugal                  11753.842910    13039.308760    16207.266630   \n",
      "Romania                    9605.314053     9696.273295     6598.409903   \n",
      "Serbia                    15181.092700    15870.878510     9325.068238   \n",
      "Slovak Republic           11348.545850    12037.267580     9498.467723   \n",
      "Slovenia                  17866.721750    18678.534920    14214.716810   \n",
      "Spain                     13926.169970    15764.983130    18603.064520   \n",
      "Sweden                    20667.381250    23586.929270    23880.016830   \n",
      "Switzerland               28397.715120    30281.704590    31871.530300   \n",
      "Turkey                     4241.356344     5089.043686     5678.348271   \n",
      "United Kingdom            18232.424520    21664.787670    22705.092540   \n",
      "\n",
      "                        gdpPercap_1997  gdpPercap_2002  gdpPercap_2007  \n",
      "country                                                                 \n",
      "Albania                    3193.054604     4604.211737     5937.029526  \n",
      "Austria                   29095.920660    32417.607690    36126.492700  \n",
      "Belgium                   27561.196630    30485.883750    33692.605080  \n",
      "Bosnia and Herzegovina     4766.355904     6018.975239     7446.298803  \n",
      "Bulgaria                   5970.388760     7696.777725    10680.792820  \n",
      "Croatia                    9875.604515    11628.388950    14619.222720  \n",
      "Czech Republic            16048.514240    17596.210220    22833.308510  \n",
      "Denmark                   29804.345670    32166.500060    35278.418740  \n",
      "Finland                   23723.950200    28204.590570    33207.084400  \n",
      "France                    25889.784870    28926.032340    30470.016700  \n",
      "Germany                   27788.884160    30035.801980    32170.374420  \n",
      "Greece                    18747.698140    22514.254800    27538.411880  \n",
      "Hungary                   11712.776800    14843.935560    18008.944440  \n",
      "Iceland                   28061.099660    31163.201960    36180.789190  \n",
      "Ireland                   24521.947130    34077.049390    40675.996350  \n",
      "Italy                     24675.024460    27968.098170    28569.719700  \n",
      "Montenegro                 6465.613349     6557.194282     9253.896111  \n",
      "Netherlands               30246.130630    33724.757780    36797.933320  \n",
      "Norway                    41283.164330    44683.975250    49357.190170  \n",
      "Poland                    10159.583680    12002.239080    15389.924680  \n",
      "Portugal                  17641.031560    19970.907870    20509.647770  \n",
      "Romania                    7346.547557     7885.360081    10808.475610  \n",
      "Serbia                     7914.320304     7236.075251     9786.534714  \n",
      "Slovak Republic           12126.230650    13638.778370    18678.314350  \n",
      "Slovenia                  17161.107350    20660.019360    25768.257590  \n",
      "Spain                     20445.298960    24835.471660    28821.063700  \n",
      "Sweden                    25266.594990    29341.630930    33859.748350  \n",
      "Switzerland               32135.323010    34480.957710    37506.419070  \n",
      "Turkey                     6601.429915     6508.085718     8458.276384  \n",
      "United Kingdom            26074.531360    29478.999190    33203.261280  \n"
     ]
    }
   ],
   "source": [
    "print(data)"
   ]
  },
  {
   "cell_type": "code",
   "execution_count": 4,
   "metadata": {},
   "outputs": [
    {
     "data": {
      "text/html": [
       "<div>\n",
       "<style scoped>\n",
       "    .dataframe tbody tr th:only-of-type {\n",
       "        vertical-align: middle;\n",
       "    }\n",
       "\n",
       "    .dataframe tbody tr th {\n",
       "        vertical-align: top;\n",
       "    }\n",
       "\n",
       "    .dataframe thead th {\n",
       "        text-align: right;\n",
       "    }\n",
       "</style>\n",
       "<table border=\"1\" class=\"dataframe\">\n",
       "  <thead>\n",
       "    <tr style=\"text-align: right;\">\n",
       "      <th></th>\n",
       "      <th>gdpPercap_1952</th>\n",
       "      <th>gdpPercap_1957</th>\n",
       "      <th>gdpPercap_1962</th>\n",
       "      <th>gdpPercap_1967</th>\n",
       "      <th>gdpPercap_1972</th>\n",
       "      <th>gdpPercap_1977</th>\n",
       "      <th>gdpPercap_1982</th>\n",
       "      <th>gdpPercap_1987</th>\n",
       "      <th>gdpPercap_1992</th>\n",
       "      <th>gdpPercap_1997</th>\n",
       "      <th>gdpPercap_2002</th>\n",
       "      <th>gdpPercap_2007</th>\n",
       "    </tr>\n",
       "    <tr>\n",
       "      <th>country</th>\n",
       "      <th></th>\n",
       "      <th></th>\n",
       "      <th></th>\n",
       "      <th></th>\n",
       "      <th></th>\n",
       "      <th></th>\n",
       "      <th></th>\n",
       "      <th></th>\n",
       "      <th></th>\n",
       "      <th></th>\n",
       "      <th></th>\n",
       "      <th></th>\n",
       "    </tr>\n",
       "  </thead>\n",
       "  <tbody>\n",
       "    <tr>\n",
       "      <th>Belgium</th>\n",
       "      <td>8343.105127</td>\n",
       "      <td>9714.960623</td>\n",
       "      <td>10991.206760</td>\n",
       "      <td>13149.041190</td>\n",
       "      <td>16672.14356</td>\n",
       "      <td>19117.974480</td>\n",
       "      <td>20979.845890</td>\n",
       "      <td>22525.563080</td>\n",
       "      <td>25575.570690</td>\n",
       "      <td>27561.196630</td>\n",
       "      <td>30485.883750</td>\n",
       "      <td>33692.605080</td>\n",
       "    </tr>\n",
       "    <tr>\n",
       "      <th>Bosnia and Herzegovina</th>\n",
       "      <td>973.533195</td>\n",
       "      <td>1353.989176</td>\n",
       "      <td>1709.683679</td>\n",
       "      <td>2172.352423</td>\n",
       "      <td>2860.16975</td>\n",
       "      <td>3528.481305</td>\n",
       "      <td>4126.613157</td>\n",
       "      <td>4314.114757</td>\n",
       "      <td>2546.781445</td>\n",
       "      <td>4766.355904</td>\n",
       "      <td>6018.975239</td>\n",
       "      <td>7446.298803</td>\n",
       "    </tr>\n",
       "  </tbody>\n",
       "</table>\n",
       "</div>"
      ],
      "text/plain": [
       "                        gdpPercap_1952  gdpPercap_1957  gdpPercap_1962  \\\n",
       "country                                                                  \n",
       "Belgium                    8343.105127     9714.960623    10991.206760   \n",
       "Bosnia and Herzegovina      973.533195     1353.989176     1709.683679   \n",
       "\n",
       "                        gdpPercap_1967  gdpPercap_1972  gdpPercap_1977  \\\n",
       "country                                                                  \n",
       "Belgium                   13149.041190     16672.14356    19117.974480   \n",
       "Bosnia and Herzegovina     2172.352423      2860.16975     3528.481305   \n",
       "\n",
       "                        gdpPercap_1982  gdpPercap_1987  gdpPercap_1992  \\\n",
       "country                                                                  \n",
       "Belgium                   20979.845890    22525.563080    25575.570690   \n",
       "Bosnia and Herzegovina     4126.613157     4314.114757     2546.781445   \n",
       "\n",
       "                        gdpPercap_1997  gdpPercap_2002  gdpPercap_2007  \n",
       "country                                                                 \n",
       "Belgium                   27561.196630    30485.883750    33692.605080  \n",
       "Bosnia and Herzegovina     4766.355904     6018.975239     7446.298803  "
      ]
     },
     "execution_count": 4,
     "metadata": {},
     "output_type": "execute_result"
    }
   ],
   "source": [
    "# how do you select some of the data?\n",
    "# iloc or loc\n",
    "data.iloc[2:4]"
   ]
  },
  {
   "cell_type": "code",
   "execution_count": 5,
   "metadata": {},
   "outputs": [
    {
     "data": {
      "text/html": [
       "<div>\n",
       "<style scoped>\n",
       "    .dataframe tbody tr th:only-of-type {\n",
       "        vertical-align: middle;\n",
       "    }\n",
       "\n",
       "    .dataframe tbody tr th {\n",
       "        vertical-align: top;\n",
       "    }\n",
       "\n",
       "    .dataframe thead th {\n",
       "        text-align: right;\n",
       "    }\n",
       "</style>\n",
       "<table border=\"1\" class=\"dataframe\">\n",
       "  <thead>\n",
       "    <tr style=\"text-align: right;\">\n",
       "      <th></th>\n",
       "      <th>gdpPercap_1957</th>\n",
       "      <th>gdpPercap_1962</th>\n",
       "      <th>gdpPercap_1967</th>\n",
       "    </tr>\n",
       "    <tr>\n",
       "      <th>country</th>\n",
       "      <th></th>\n",
       "      <th></th>\n",
       "      <th></th>\n",
       "    </tr>\n",
       "  </thead>\n",
       "  <tbody>\n",
       "    <tr>\n",
       "      <th>Belgium</th>\n",
       "      <td>9714.960623</td>\n",
       "      <td>10991.206760</td>\n",
       "      <td>13149.041190</td>\n",
       "    </tr>\n",
       "    <tr>\n",
       "      <th>Bosnia and Herzegovina</th>\n",
       "      <td>1353.989176</td>\n",
       "      <td>1709.683679</td>\n",
       "      <td>2172.352423</td>\n",
       "    </tr>\n",
       "  </tbody>\n",
       "</table>\n",
       "</div>"
      ],
      "text/plain": [
       "                        gdpPercap_1957  gdpPercap_1962  gdpPercap_1967\n",
       "country                                                               \n",
       "Belgium                    9714.960623    10991.206760    13149.041190\n",
       "Bosnia and Herzegovina     1353.989176     1709.683679     2172.352423"
      ]
     },
     "execution_count": 5,
     "metadata": {},
     "output_type": "execute_result"
    }
   ],
   "source": [
    "data.iloc[2:4,1:4]"
   ]
  },
  {
   "cell_type": "code",
   "execution_count": 6,
   "metadata": {},
   "outputs": [
    {
     "data": {
      "text/html": [
       "<div>\n",
       "<style scoped>\n",
       "    .dataframe tbody tr th:only-of-type {\n",
       "        vertical-align: middle;\n",
       "    }\n",
       "\n",
       "    .dataframe tbody tr th {\n",
       "        vertical-align: top;\n",
       "    }\n",
       "\n",
       "    .dataframe thead th {\n",
       "        text-align: right;\n",
       "    }\n",
       "</style>\n",
       "<table border=\"1\" class=\"dataframe\">\n",
       "  <thead>\n",
       "    <tr style=\"text-align: right;\">\n",
       "      <th></th>\n",
       "      <th>gdpPercap_1952</th>\n",
       "      <th>gdpPercap_1957</th>\n",
       "      <th>gdpPercap_1962</th>\n",
       "      <th>gdpPercap_1967</th>\n",
       "      <th>gdpPercap_1972</th>\n",
       "      <th>gdpPercap_1977</th>\n",
       "      <th>gdpPercap_1982</th>\n",
       "      <th>gdpPercap_1987</th>\n",
       "      <th>gdpPercap_1992</th>\n",
       "      <th>gdpPercap_1997</th>\n",
       "      <th>gdpPercap_2002</th>\n",
       "      <th>gdpPercap_2007</th>\n",
       "    </tr>\n",
       "    <tr>\n",
       "      <th>country</th>\n",
       "      <th></th>\n",
       "      <th></th>\n",
       "      <th></th>\n",
       "      <th></th>\n",
       "      <th></th>\n",
       "      <th></th>\n",
       "      <th></th>\n",
       "      <th></th>\n",
       "      <th></th>\n",
       "      <th></th>\n",
       "      <th></th>\n",
       "      <th></th>\n",
       "    </tr>\n",
       "  </thead>\n",
       "  <tbody>\n",
       "    <tr>\n",
       "      <th>Finland</th>\n",
       "      <td>6424.519071</td>\n",
       "      <td>7545.415386</td>\n",
       "      <td>9371.842561</td>\n",
       "      <td>10921.636260</td>\n",
       "      <td>14358.87590</td>\n",
       "      <td>15605.42283</td>\n",
       "      <td>18533.15761</td>\n",
       "      <td>21141.01223</td>\n",
       "      <td>20647.16499</td>\n",
       "      <td>23723.95020</td>\n",
       "      <td>28204.59057</td>\n",
       "      <td>33207.08440</td>\n",
       "    </tr>\n",
       "    <tr>\n",
       "      <th>France</th>\n",
       "      <td>7029.809327</td>\n",
       "      <td>8662.834898</td>\n",
       "      <td>10560.485530</td>\n",
       "      <td>12999.917660</td>\n",
       "      <td>16107.19171</td>\n",
       "      <td>18292.63514</td>\n",
       "      <td>20293.89746</td>\n",
       "      <td>22066.44214</td>\n",
       "      <td>24703.79615</td>\n",
       "      <td>25889.78487</td>\n",
       "      <td>28926.03234</td>\n",
       "      <td>30470.01670</td>\n",
       "    </tr>\n",
       "    <tr>\n",
       "      <th>Germany</th>\n",
       "      <td>7144.114393</td>\n",
       "      <td>10187.826650</td>\n",
       "      <td>12902.462910</td>\n",
       "      <td>14745.625610</td>\n",
       "      <td>18016.18027</td>\n",
       "      <td>20512.92123</td>\n",
       "      <td>22031.53274</td>\n",
       "      <td>24639.18566</td>\n",
       "      <td>26505.30317</td>\n",
       "      <td>27788.88416</td>\n",
       "      <td>30035.80198</td>\n",
       "      <td>32170.37442</td>\n",
       "    </tr>\n",
       "    <tr>\n",
       "      <th>Greece</th>\n",
       "      <td>3530.690067</td>\n",
       "      <td>4916.299889</td>\n",
       "      <td>6017.190733</td>\n",
       "      <td>8513.097016</td>\n",
       "      <td>12724.82957</td>\n",
       "      <td>14195.52428</td>\n",
       "      <td>15268.42089</td>\n",
       "      <td>16120.52839</td>\n",
       "      <td>17541.49634</td>\n",
       "      <td>18747.69814</td>\n",
       "      <td>22514.25480</td>\n",
       "      <td>27538.41188</td>\n",
       "    </tr>\n",
       "  </tbody>\n",
       "</table>\n",
       "</div>"
      ],
      "text/plain": [
       "         gdpPercap_1952  gdpPercap_1957  gdpPercap_1962  gdpPercap_1967  \\\n",
       "country                                                                   \n",
       "Finland     6424.519071     7545.415386     9371.842561    10921.636260   \n",
       "France      7029.809327     8662.834898    10560.485530    12999.917660   \n",
       "Germany     7144.114393    10187.826650    12902.462910    14745.625610   \n",
       "Greece      3530.690067     4916.299889     6017.190733     8513.097016   \n",
       "\n",
       "         gdpPercap_1972  gdpPercap_1977  gdpPercap_1982  gdpPercap_1987  \\\n",
       "country                                                                   \n",
       "Finland     14358.87590     15605.42283     18533.15761     21141.01223   \n",
       "France      16107.19171     18292.63514     20293.89746     22066.44214   \n",
       "Germany     18016.18027     20512.92123     22031.53274     24639.18566   \n",
       "Greece      12724.82957     14195.52428     15268.42089     16120.52839   \n",
       "\n",
       "         gdpPercap_1992  gdpPercap_1997  gdpPercap_2002  gdpPercap_2007  \n",
       "country                                                                  \n",
       "Finland     20647.16499     23723.95020     28204.59057     33207.08440  \n",
       "France      24703.79615     25889.78487     28926.03234     30470.01670  \n",
       "Germany     26505.30317     27788.88416     30035.80198     32170.37442  \n",
       "Greece      17541.49634     18747.69814     22514.25480     27538.41188  "
      ]
     },
     "execution_count": 6,
     "metadata": {},
     "output_type": "execute_result"
    }
   ],
   "source": [
    "# loc uses column and row labels\n",
    "data.loc[\"Finland\":\"Greece\"]\n",
    "# note, this slice is INCLUSIVE"
   ]
  },
  {
   "cell_type": "code",
   "execution_count": 7,
   "metadata": {},
   "outputs": [
    {
     "name": "stdout",
     "output_type": "stream",
     "text": [
      "         gdpPercap_1957  gdpPercap_1962  gdpPercap_1967  gdpPercap_1972  \\\n",
      "country                                                                   \n",
      "Finland     7545.415386     9371.842561    10921.636260     14358.87590   \n",
      "France      8662.834898    10560.485530    12999.917660     16107.19171   \n",
      "Germany    10187.826650    12902.462910    14745.625610     18016.18027   \n",
      "Greece      4916.299889     6017.190733     8513.097016     12724.82957   \n",
      "\n",
      "         gdpPercap_1977  gdpPercap_1982  \n",
      "country                                  \n",
      "Finland     15605.42283     18533.15761  \n",
      "France      18292.63514     20293.89746  \n",
      "Germany     20512.92123     22031.53274  \n",
      "Greece      14195.52428     15268.42089  \n"
     ]
    }
   ],
   "source": [
    "# Question: how do you select just 1957-1982 data?\n",
    "s1=data.loc[\"Finland\":\"Greece\"]\n",
    "# this won't work\n",
    "# s1.loc[,1957:1982]\n",
    "#\n",
    "# this also won't work\n",
    "# s1.loc[:,1957:1982]\n",
    "# \n",
    "# nor this,\n",
    "# s1.loc[:,gdpPercap_1957:gdpPercap_1982]\n",
    "s2=s1.loc[:,\"gdpPercap_1957\":\"gdpPercap_1982\"]\n",
    "print(s2)"
   ]
  },
  {
   "cell_type": "code",
   "execution_count": 8,
   "metadata": {},
   "outputs": [
    {
     "data": {
      "text/plain": [
       "gdpPercap_1957     4916.299889\n",
       "gdpPercap_1962     6017.190733\n",
       "gdpPercap_1967     8513.097016\n",
       "gdpPercap_1972    12724.829570\n",
       "gdpPercap_1977    14195.524280\n",
       "gdpPercap_1982    15268.420890\n",
       "dtype: float64"
      ]
     },
     "execution_count": 8,
     "metadata": {},
     "output_type": "execute_result"
    }
   ],
   "source": [
    "s2.min()"
   ]
  },
  {
   "cell_type": "code",
   "execution_count": 9,
   "metadata": {},
   "outputs": [
    {
     "data": {
      "text/plain": [
       "country\n",
       "Finland     7545.415386\n",
       "France      8662.834898\n",
       "Germany    10187.826650\n",
       "Greece      4916.299889\n",
       "dtype: float64"
      ]
     },
     "execution_count": 9,
     "metadata": {},
     "output_type": "execute_result"
    }
   ],
   "source": [
    "s2.T.min()"
   ]
  },
  {
   "cell_type": "code",
   "execution_count": 10,
   "metadata": {},
   "outputs": [
    {
     "data": {
      "text/html": [
       "<div>\n",
       "<style scoped>\n",
       "    .dataframe tbody tr th:only-of-type {\n",
       "        vertical-align: middle;\n",
       "    }\n",
       "\n",
       "    .dataframe tbody tr th {\n",
       "        vertical-align: top;\n",
       "    }\n",
       "\n",
       "    .dataframe thead th {\n",
       "        text-align: right;\n",
       "    }\n",
       "</style>\n",
       "<table border=\"1\" class=\"dataframe\">\n",
       "  <thead>\n",
       "    <tr style=\"text-align: right;\">\n",
       "      <th></th>\n",
       "      <th>gdpPercap_1957</th>\n",
       "      <th>gdpPercap_1962</th>\n",
       "      <th>gdpPercap_1967</th>\n",
       "      <th>gdpPercap_1972</th>\n",
       "      <th>gdpPercap_1977</th>\n",
       "      <th>gdpPercap_1982</th>\n",
       "    </tr>\n",
       "  </thead>\n",
       "  <tbody>\n",
       "    <tr>\n",
       "      <th>count</th>\n",
       "      <td>4.000000</td>\n",
       "      <td>4.000000</td>\n",
       "      <td>4.000000</td>\n",
       "      <td>4.000000</td>\n",
       "      <td>4.000000</td>\n",
       "      <td>4.000000</td>\n",
       "    </tr>\n",
       "    <tr>\n",
       "      <th>mean</th>\n",
       "      <td>7828.094206</td>\n",
       "      <td>9712.995434</td>\n",
       "      <td>11795.069136</td>\n",
       "      <td>15301.769362</td>\n",
       "      <td>17151.625870</td>\n",
       "      <td>19031.752175</td>\n",
       "    </tr>\n",
       "    <tr>\n",
       "      <th>std</th>\n",
       "      <td>2222.879716</td>\n",
       "      <td>2867.420439</td>\n",
       "      <td>2688.969410</td>\n",
       "      <td>2276.429844</td>\n",
       "      <td>2812.441946</td>\n",
       "      <td>2886.921836</td>\n",
       "    </tr>\n",
       "    <tr>\n",
       "      <th>min</th>\n",
       "      <td>4916.299889</td>\n",
       "      <td>6017.190733</td>\n",
       "      <td>8513.097016</td>\n",
       "      <td>12724.829570</td>\n",
       "      <td>14195.524280</td>\n",
       "      <td>15268.420890</td>\n",
       "    </tr>\n",
       "    <tr>\n",
       "      <th>25%</th>\n",
       "      <td>6888.136512</td>\n",
       "      <td>8533.179604</td>\n",
       "      <td>10319.501449</td>\n",
       "      <td>13950.364317</td>\n",
       "      <td>15252.948193</td>\n",
       "      <td>17716.973430</td>\n",
       "    </tr>\n",
       "    <tr>\n",
       "      <th>50%</th>\n",
       "      <td>8104.125142</td>\n",
       "      <td>9966.164045</td>\n",
       "      <td>11960.776960</td>\n",
       "      <td>15233.033805</td>\n",
       "      <td>16949.028985</td>\n",
       "      <td>19413.527535</td>\n",
       "    </tr>\n",
       "    <tr>\n",
       "      <th>75%</th>\n",
       "      <td>9044.082836</td>\n",
       "      <td>11145.979875</td>\n",
       "      <td>13436.344647</td>\n",
       "      <td>16584.438850</td>\n",
       "      <td>18847.706663</td>\n",
       "      <td>20728.306280</td>\n",
       "    </tr>\n",
       "    <tr>\n",
       "      <th>max</th>\n",
       "      <td>10187.826650</td>\n",
       "      <td>12902.462910</td>\n",
       "      <td>14745.625610</td>\n",
       "      <td>18016.180270</td>\n",
       "      <td>20512.921230</td>\n",
       "      <td>22031.532740</td>\n",
       "    </tr>\n",
       "  </tbody>\n",
       "</table>\n",
       "</div>"
      ],
      "text/plain": [
       "       gdpPercap_1957  gdpPercap_1962  gdpPercap_1967  gdpPercap_1972  \\\n",
       "count        4.000000        4.000000        4.000000        4.000000   \n",
       "mean      7828.094206     9712.995434    11795.069136    15301.769362   \n",
       "std       2222.879716     2867.420439     2688.969410     2276.429844   \n",
       "min       4916.299889     6017.190733     8513.097016    12724.829570   \n",
       "25%       6888.136512     8533.179604    10319.501449    13950.364317   \n",
       "50%       8104.125142     9966.164045    11960.776960    15233.033805   \n",
       "75%       9044.082836    11145.979875    13436.344647    16584.438850   \n",
       "max      10187.826650    12902.462910    14745.625610    18016.180270   \n",
       "\n",
       "       gdpPercap_1977  gdpPercap_1982  \n",
       "count        4.000000        4.000000  \n",
       "mean     17151.625870    19031.752175  \n",
       "std       2812.441946     2886.921836  \n",
       "min      14195.524280    15268.420890  \n",
       "25%      15252.948193    17716.973430  \n",
       "50%      16949.028985    19413.527535  \n",
       "75%      18847.706663    20728.306280  \n",
       "max      20512.921230    22031.532740  "
      ]
     },
     "execution_count": 10,
     "metadata": {},
     "output_type": "execute_result"
    }
   ],
   "source": [
    "#describe across countries, per year\n",
    "s2.describe()"
   ]
  },
  {
   "cell_type": "code",
   "execution_count": 11,
   "metadata": {},
   "outputs": [
    {
     "data": {
      "text/html": [
       "<div>\n",
       "<style scoped>\n",
       "    .dataframe tbody tr th:only-of-type {\n",
       "        vertical-align: middle;\n",
       "    }\n",
       "\n",
       "    .dataframe tbody tr th {\n",
       "        vertical-align: top;\n",
       "    }\n",
       "\n",
       "    .dataframe thead th {\n",
       "        text-align: right;\n",
       "    }\n",
       "</style>\n",
       "<table border=\"1\" class=\"dataframe\">\n",
       "  <thead>\n",
       "    <tr style=\"text-align: right;\">\n",
       "      <th>country</th>\n",
       "      <th>Finland</th>\n",
       "      <th>France</th>\n",
       "      <th>Germany</th>\n",
       "      <th>Greece</th>\n",
       "    </tr>\n",
       "  </thead>\n",
       "  <tbody>\n",
       "    <tr>\n",
       "      <th>count</th>\n",
       "      <td>6.000000</td>\n",
       "      <td>6.000000</td>\n",
       "      <td>6.000000</td>\n",
       "      <td>6.000000</td>\n",
       "    </tr>\n",
       "    <tr>\n",
       "      <th>mean</th>\n",
       "      <td>12722.725091</td>\n",
       "      <td>14486.160400</td>\n",
       "      <td>16399.424902</td>\n",
       "      <td>10272.560396</td>\n",
       "    </tr>\n",
       "    <tr>\n",
       "      <th>std</th>\n",
       "      <td>4147.889398</td>\n",
       "      <td>4524.991995</td>\n",
       "      <td>4578.277772</td>\n",
       "      <td>4387.603008</td>\n",
       "    </tr>\n",
       "    <tr>\n",
       "      <th>min</th>\n",
       "      <td>7545.415386</td>\n",
       "      <td>8662.834898</td>\n",
       "      <td>10187.826650</td>\n",
       "      <td>4916.299889</td>\n",
       "    </tr>\n",
       "    <tr>\n",
       "      <th>25%</th>\n",
       "      <td>9759.290986</td>\n",
       "      <td>11170.343563</td>\n",
       "      <td>13363.253585</td>\n",
       "      <td>6641.167304</td>\n",
       "    </tr>\n",
       "    <tr>\n",
       "      <th>50%</th>\n",
       "      <td>12640.256080</td>\n",
       "      <td>14553.554685</td>\n",
       "      <td>16380.902940</td>\n",
       "      <td>10618.963293</td>\n",
       "    </tr>\n",
       "    <tr>\n",
       "      <th>75%</th>\n",
       "      <td>15293.786098</td>\n",
       "      <td>17746.274283</td>\n",
       "      <td>19888.735990</td>\n",
       "      <td>13827.850603</td>\n",
       "    </tr>\n",
       "    <tr>\n",
       "      <th>max</th>\n",
       "      <td>18533.157610</td>\n",
       "      <td>20293.897460</td>\n",
       "      <td>22031.532740</td>\n",
       "      <td>15268.420890</td>\n",
       "    </tr>\n",
       "  </tbody>\n",
       "</table>\n",
       "</div>"
      ],
      "text/plain": [
       "country       Finland        France       Germany        Greece\n",
       "count        6.000000      6.000000      6.000000      6.000000\n",
       "mean     12722.725091  14486.160400  16399.424902  10272.560396\n",
       "std       4147.889398   4524.991995   4578.277772   4387.603008\n",
       "min       7545.415386   8662.834898  10187.826650   4916.299889\n",
       "25%       9759.290986  11170.343563  13363.253585   6641.167304\n",
       "50%      12640.256080  14553.554685  16380.902940  10618.963293\n",
       "75%      15293.786098  17746.274283  19888.735990  13827.850603\n",
       "max      18533.157610  20293.897460  22031.532740  15268.420890"
      ]
     },
     "execution_count": 11,
     "metadata": {},
     "output_type": "execute_result"
    }
   ],
   "source": [
    "# describe across years, per country\n",
    "s2.T.describe()"
   ]
  },
  {
   "cell_type": "code",
   "execution_count": 12,
   "metadata": {},
   "outputs": [
    {
     "data": {
      "text/html": [
       "<div>\n",
       "<style scoped>\n",
       "    .dataframe tbody tr th:only-of-type {\n",
       "        vertical-align: middle;\n",
       "    }\n",
       "\n",
       "    .dataframe tbody tr th {\n",
       "        vertical-align: top;\n",
       "    }\n",
       "\n",
       "    .dataframe thead th {\n",
       "        text-align: right;\n",
       "    }\n",
       "</style>\n",
       "<table border=\"1\" class=\"dataframe\">\n",
       "  <thead>\n",
       "    <tr style=\"text-align: right;\">\n",
       "      <th>country</th>\n",
       "      <th>Finland</th>\n",
       "      <th>France</th>\n",
       "      <th>Germany</th>\n",
       "      <th>Greece</th>\n",
       "    </tr>\n",
       "  </thead>\n",
       "  <tbody>\n",
       "    <tr>\n",
       "      <th>count</th>\n",
       "      <td>6.000000</td>\n",
       "      <td>6.000000</td>\n",
       "      <td>6.000000</td>\n",
       "      <td>6.000000</td>\n",
       "    </tr>\n",
       "    <tr>\n",
       "      <th>mean</th>\n",
       "      <td>12722.725091</td>\n",
       "      <td>14486.160400</td>\n",
       "      <td>16399.424902</td>\n",
       "      <td>10272.560396</td>\n",
       "    </tr>\n",
       "    <tr>\n",
       "      <th>std</th>\n",
       "      <td>4147.889398</td>\n",
       "      <td>4524.991995</td>\n",
       "      <td>4578.277772</td>\n",
       "      <td>4387.603008</td>\n",
       "    </tr>\n",
       "    <tr>\n",
       "      <th>min</th>\n",
       "      <td>7545.415386</td>\n",
       "      <td>8662.834898</td>\n",
       "      <td>10187.826650</td>\n",
       "      <td>4916.299889</td>\n",
       "    </tr>\n",
       "  </tbody>\n",
       "</table>\n",
       "</div>"
      ],
      "text/plain": [
       "country       Finland        France       Germany        Greece\n",
       "count        6.000000      6.000000      6.000000      6.000000\n",
       "mean     12722.725091  14486.160400  16399.424902  10272.560396\n",
       "std       4147.889398   4524.991995   4578.277772   4387.603008\n",
       "min       7545.415386   8662.834898  10187.826650   4916.299889"
      ]
     },
     "execution_count": 12,
     "metadata": {},
     "output_type": "execute_result"
    }
   ],
   "source": [
    "# what is the mean across country?\n",
    "s3=s2.T.describe()\n",
    "s3[0:4]"
   ]
  },
  {
   "cell_type": "code",
   "execution_count": 13,
   "metadata": {},
   "outputs": [
    {
     "data": {
      "text/html": [
       "<div>\n",
       "<style scoped>\n",
       "    .dataframe tbody tr th:only-of-type {\n",
       "        vertical-align: middle;\n",
       "    }\n",
       "\n",
       "    .dataframe tbody tr th {\n",
       "        vertical-align: top;\n",
       "    }\n",
       "\n",
       "    .dataframe thead th {\n",
       "        text-align: right;\n",
       "    }\n",
       "</style>\n",
       "<table border=\"1\" class=\"dataframe\">\n",
       "  <thead>\n",
       "    <tr style=\"text-align: right;\">\n",
       "      <th></th>\n",
       "      <th>mean</th>\n",
       "    </tr>\n",
       "  </thead>\n",
       "  <tbody>\n",
       "    <tr>\n",
       "      <th>count</th>\n",
       "      <td>4.000000</td>\n",
       "    </tr>\n",
       "    <tr>\n",
       "      <th>mean</th>\n",
       "      <td>13470.217697</td>\n",
       "    </tr>\n",
       "    <tr>\n",
       "      <th>std</th>\n",
       "      <td>2607.435000</td>\n",
       "    </tr>\n",
       "    <tr>\n",
       "      <th>min</th>\n",
       "      <td>10272.560396</td>\n",
       "    </tr>\n",
       "    <tr>\n",
       "      <th>25%</th>\n",
       "      <td>12110.183917</td>\n",
       "    </tr>\n",
       "    <tr>\n",
       "      <th>50%</th>\n",
       "      <td>13604.442745</td>\n",
       "    </tr>\n",
       "    <tr>\n",
       "      <th>75%</th>\n",
       "      <td>14964.476525</td>\n",
       "    </tr>\n",
       "    <tr>\n",
       "      <th>max</th>\n",
       "      <td>16399.424902</td>\n",
       "    </tr>\n",
       "  </tbody>\n",
       "</table>\n",
       "</div>"
      ],
      "text/plain": [
       "               mean\n",
       "count      4.000000\n",
       "mean   13470.217697\n",
       "std     2607.435000\n",
       "min    10272.560396\n",
       "25%    12110.183917\n",
       "50%    13604.442745\n",
       "75%    14964.476525\n",
       "max    16399.424902"
      ]
     },
     "execution_count": 13,
     "metadata": {},
     "output_type": "execute_result"
    }
   ],
   "source": [
    "\n",
    "s3[1:2].T.describe()"
   ]
  },
  {
   "cell_type": "code",
   "execution_count": 14,
   "metadata": {},
   "outputs": [
    {
     "name": "stdout",
     "output_type": "stream",
     "text": [
      "13470.217697208334\n"
     ]
    }
   ],
   "source": [
    "s4=s3[1:2].T.describe()\n",
    "average=s4.values[1]\n",
    "print(average[0])"
   ]
  },
  {
   "cell_type": "code",
   "execution_count": 15,
   "metadata": {},
   "outputs": [
    {
     "name": "stdout",
     "output_type": "stream",
     "text": [
      " in which cases is the average gdp greater than the average?\n",
      "\n",
      "         gdpPercap_1957  gdpPercap_1962  gdpPercap_1967  gdpPercap_1972  \\\n",
      "country                                                                   \n",
      "Finland           False           False           False            True   \n",
      "France            False           False           False            True   \n",
      "Germany           False           False            True            True   \n",
      "Greece            False           False           False           False   \n",
      "\n",
      "         gdpPercap_1977  gdpPercap_1982  \n",
      "country                                  \n",
      "Finland            True            True  \n",
      "France             True            True  \n",
      "Germany            True            True  \n",
      "Greece             True            True  \n"
     ]
    }
   ],
   "source": [
    "# which values are greater than this average?\n",
    "mask= s2>average\n",
    "print(\" in which cases is the average gdp greater than the average?\\n\")\n",
    "print(mask)"
   ]
  },
  {
   "cell_type": "code",
   "execution_count": 16,
   "metadata": {},
   "outputs": [
    {
     "name": "stdout",
     "output_type": "stream",
     "text": [
      "         gdpPercap_1957  gdpPercap_1962  gdpPercap_1967  gdpPercap_1972  \\\n",
      "country                                                                   \n",
      "Finland             NaN             NaN             NaN     14358.87590   \n",
      "France              NaN             NaN             NaN     16107.19171   \n",
      "Germany             NaN             NaN     14745.62561     18016.18027   \n",
      "Greece              NaN             NaN             NaN             NaN   \n",
      "\n",
      "         gdpPercap_1977  gdpPercap_1982  \n",
      "country                                  \n",
      "Finland     15605.42283     18533.15761  \n",
      "France      18292.63514     20293.89746  \n",
      "Germany     20512.92123     22031.53274  \n",
      "Greece      14195.52428     15268.42089  \n"
     ]
    }
   ],
   "source": [
    "# print out the gdp values where this is true, with a mask\n",
    "print(s2[mask])\n",
    "# could also print out\n",
    "# print(s2[s2>average])"
   ]
  },
  {
   "cell_type": "markdown",
   "metadata": {},
   "source": [
    "# in class questions: \n",
    "1. GDP per capita for all countries in 1982.\n",
    "2. GDP per capita for Denmark for all years.\n",
    "3. GDP per capita for all countries for years after 1985.\n",
    "4. GDP per capita for each country in 2007 as a multiple of GDP per capita for that country in 1952. \n",
    "\n",
    "data['gdpPercap_2007']/data['gdpPercap_1952']"
   ]
  },
  {
   "cell_type": "code",
   "execution_count": 17,
   "metadata": {},
   "outputs": [],
   "source": [
    "%matplotlib inline\n",
    "import matplotlib.pyplot as plt"
   ]
  },
  {
   "cell_type": "code",
   "execution_count": 18,
   "metadata": {},
   "outputs": [
    {
     "data": {
      "text/plain": [
       "[<matplotlib.lines.Line2D at 0x21e933fd240>,\n",
       " <matplotlib.lines.Line2D at 0x21e933fd320>,\n",
       " <matplotlib.lines.Line2D at 0x21e933fd470>,\n",
       " <matplotlib.lines.Line2D at 0x21e933fd5c0>,\n",
       " <matplotlib.lines.Line2D at 0x21e933fd710>,\n",
       " <matplotlib.lines.Line2D at 0x21e933fd860>,\n",
       " <matplotlib.lines.Line2D at 0x21e933fd9b0>,\n",
       " <matplotlib.lines.Line2D at 0x21e933fdb00>,\n",
       " <matplotlib.lines.Line2D at 0x21e933fdc50>,\n",
       " <matplotlib.lines.Line2D at 0x21e933fdda0>,\n",
       " <matplotlib.lines.Line2D at 0x21e9316fa20>,\n",
       " <matplotlib.lines.Line2D at 0x21e9340b048>]"
      ]
     },
     "execution_count": 18,
     "metadata": {},
     "output_type": "execute_result"
    },
    {
     "data": {
      "image/png": "[encoded data removed]",
      "text/plain": [
       "<Figure size 432x288 with 1 Axes>"
      ]
     },
     "metadata": {},
     "output_type": "display_data"
    }
   ],
   "source": [
    "plt.plot(data)"
   ]
  },
  {
   "cell_type": "code",
   "execution_count": 19,
   "metadata": {},
   "outputs": [
    {
     "data": {
      "text/plain": [
       "[<matplotlib.lines.Line2D at 0x21e934e8c88>]"
      ]
     },
     "execution_count": 19,
     "metadata": {},
     "output_type": "execute_result"
    },
    {
     "data": {
      "image/png": "[encoded data removed]",
      "text/plain": [
       "<Figure size 432x288 with 1 Axes>"
      ]
     },
     "metadata": {},
     "output_type": "display_data"
    }
   ],
   "source": [
    "plt.plot(data.loc[\"Finland\"])"
   ]
  },
  {
   "cell_type": "code",
   "execution_count": 20,
   "metadata": {},
   "outputs": [
    {
     "name": "stdout",
     "output_type": "stream",
     "text": [
      "Index(['1952', '1957', '1962', '1967', '1972', '1977', '1982', '1987', '1992',\n",
      "       '1997', '2002', '2007'],\n",
      "      dtype='object')\n"
     ]
    }
   ],
   "source": [
    "# note the gross x-label.  Change that with some magic foo\n",
    "years = data.columns.str.strip('gdpPercap_')\n",
    "print(years)"
   ]
  },
  {
   "cell_type": "code",
   "execution_count": 21,
   "metadata": {},
   "outputs": [
    {
     "name": "stdout",
     "output_type": "stream",
     "text": [
      "                1957         1962\n",
      "country                          \n",
      "Austria  8842.598030  10750.72111\n",
      "Belgium  9714.960623  10991.20676\n"
     ]
    }
   ],
   "source": [
    "# Convert year values to integers, saving results back to dataframe\n",
    "data.columns = years.astype(int)\n",
    "print(data.iloc[1:3,1:3])"
   ]
  },
  {
   "cell_type": "code",
   "execution_count": 22,
   "metadata": {},
   "outputs": [
    {
     "data": {
      "text/plain": [
       "[<matplotlib.lines.Line2D at 0x21e93555320>]"
      ]
     },
     "execution_count": 22,
     "metadata": {},
     "output_type": "execute_result"
    },
    {
     "data": {
      "image/png": "[encoded data removed]",
      "text/plain": [
       "<Figure size 432x288 with 1 Axes>"
      ]
     },
     "metadata": {},
     "output_type": "display_data"
    }
   ],
   "source": [
    "plt.plot(data.loc[\"Finland\"])"
   ]
  },
  {
   "cell_type": "code",
   "execution_count": 23,
   "metadata": {},
   "outputs": [
    {
     "data": {
      "text/plain": [
       "[<matplotlib.lines.Line2D at 0x21e93580860>]"
      ]
     },
     "execution_count": 23,
     "metadata": {},
     "output_type": "execute_result"
    },
    {
     "data": {
      "image/png": "[encoded data removed]",
      "text/plain": [
       "<Figure size 432x288 with 1 Axes>"
      ]
     },
     "metadata": {},
     "output_type": "display_data"
    }
   ],
   "source": [
    "# this won't work.\n",
    "# plt.plot(data.loc[\"Finland\",\"Greece\"])\n",
    "#\n",
    "# this also isn't what we want\n",
    "#plt.plot(data.loc[\"Finland\"],data.loc[\"Greece\"])\n",
    "plt.plot(data.loc[\"Finland\"])\n",
    "plt.plot(data.loc[\"Greece\"])"
   ]
  },
  {
   "cell_type": "code",
   "execution_count": 24,
   "metadata": {},
   "outputs": [
    {
     "data": {
      "text/plain": [
       "<matplotlib.legend.Legend at 0x21e9360d860>"
      ]
     },
     "execution_count": 24,
     "metadata": {},
     "output_type": "execute_result"
    },
    {
     "data": {
      "image/png": "[encoded data removed]",
      "text/plain": [
       "<Figure size 432x288 with 1 Axes>"
      ]
     },
     "metadata": {},
     "output_type": "display_data"
    }
   ],
   "source": [
    "plt.plot(data.loc[\"Finland\"])\n",
    "plt.plot(data.loc[\"Greece\"])\n",
    "plt.plot([1957,1982],[average,average],label=\"5 country average\")\n",
    "plt.ylabel(\"GDP per capita ($)\")\n",
    "plt.xlabel(\"year\")\n",
    "plt.legend(loc=\"upper left\")"
   ]
  },
  {
   "cell_type": "markdown",
   "metadata": {},
   "source": [
    "1. How would you add germany?\n",
    "2. How would you restrict to after 1980?\n",
    "3. How would you rescale so that 1952 GDP values are 100% (ie, norm 1952 to 1.0, growth since then)?"
   ]
  }
 ],
 "metadata": {
  "kernelspec": {
   "display_name": "Python 3",
   "language": "python",
   "name": "python3"
  },
  "language_info": {
   "codemirror_mode": {
    "name": "ipython",
    "version": 3
   },
   "file_extension": ".py",
   "mimetype": "text/x-python",
   "name": "python",
   "nbconvert_exporter": "python",
   "pygments_lexer": "ipython3",
   "version": "3.6.5"
  }
 },
 "nbformat": 4,
 "nbformat_minor": 2
}
