{
 "cells": [
  {
   "cell_type": "code",
   "execution_count": null,
   "metadata": {},
   "outputs": [],
   "source": [
    "from pandas import *"
   ]
  },
  {
   "cell_type": "code",
   "execution_count": null,
   "metadata": {},
   "outputs": [],
   "source": [
    "data=pandas.read_csv(\"./09_pandas_applications/gas_station.csv\")"
   ]
  },
  {
   "cell_type": "code",
   "execution_count": null,
   "metadata": {},
   "outputs": [],
   "source": [
    "data"
   ]
  },
  {
   "cell_type": "code",
   "execution_count": null,
   "metadata": {},
   "outputs": [],
   "source": [
    "# pull out \"odometer mileage at fill,\" and \"gas to fill the tank\" vectors\n",
    "mileage=data.iloc[:,0]\n",
    "gas=data.iloc[:,1]"
   ]
  },
  {
   "cell_type": "code",
   "execution_count": null,
   "metadata": {},
   "outputs": [],
   "source": [
    "# the miles since last fill vector\n",
    "dm = mileage.iloc[1:].values - mileage.iloc[0:6].values"
   ]
  },
  {
   "cell_type": "code",
   "execution_count": null,
   "metadata": {},
   "outputs": [],
   "source": [
    "# mpg values\n",
    "mpg=dm/gas[1:]\n",
    "# strip out the pandas indexing\n",
    "mpg=mpg.values"
   ]
  },
  {
   "cell_type": "code",
   "execution_count": null,
   "metadata": {},
   "outputs": [],
   "source": [
    "#print out a gas, dm and mpg values in a nice column\n",
    "print(\"fill #\\tmiles \\tgas\\tmpg\")\n",
    "print(\"\\tdriven\\tto fill\")\n",
    "for i in range(len(mpg)):\n",
    "    print(\"%d\\t%d\\t%.3f\\t%.2f\" %(i,dm[i],gas[i],mpg[i]) )"
   ]
  },
  {
   "cell_type": "markdown",
   "metadata": {},
   "source": [
    "# sample file stops here!"
   ]
  },
  {
   "cell_type": "markdown",
   "metadata": {},
   "source": [
    "# Create a plot of miles driven vs gas purchased"
   ]
  },
  {
   "cell_type": "code",
   "execution_count": null,
   "metadata": {},
   "outputs": [],
   "source": [
    "initial_odo_reading=mileage[0]\n",
    "miles_driven=mileage-initial_odo_reading\n",
    "print(miles_driven)"
   ]
  },
  {
   "cell_type": "code",
   "execution_count": null,
   "metadata": {},
   "outputs": [],
   "source": [
    "#total_gas_bought, throw away first value\n",
    "g2=gas[1:]\n",
    "print(g2)"
   ]
  },
  {
   "cell_type": "code",
   "execution_count": null,
   "metadata": {},
   "outputs": [],
   "source": [
    "# start with an empty array\n",
    "total_gas=np.array([])\n",
    "\n",
    "# create an array of \"gas bought so far\" via the sum function\n",
    "for i in range(0,len(g2)+1):\n",
    "    print(\"\\nat i=\",i,\" array: \\n\",g2[0:i])\n",
    "    \n",
    "    gas_so_far=g2[0:i].sum()\n",
    "    \n",
    "    #print(i,\"\\t\",gas_so_far)\n",
    "    total_gas=np.append(total_gas,gas_so_far)\n",
    "    #print(total_gas,\"\\n\")\n",
    "    \n",
    "print(total_gas)"
   ]
  },
  {
   "cell_type": "code",
   "execution_count": null,
   "metadata": {},
   "outputs": [],
   "source": [
    "print(len(total_gas))\n",
    "print(len(miles_driven))"
   ]
  },
  {
   "cell_type": "code",
   "execution_count": null,
   "metadata": {},
   "outputs": [],
   "source": [
    "%matplotlib inline\n",
    "import matplotlib.pyplot as plt\n",
    "plt.plot(total_gas,miles_driven,\"o\")\n",
    "plt.xlabel(\"total gas purchased, g, (gal)\")\n",
    "plt.ylabel(\"total miles driven, m, (miles)\")"
   ]
  },
  {
   "cell_type": "markdown",
   "metadata": {},
   "source": [
    "# Now, find the fit"
   ]
  },
  {
   "cell_type": "markdown",
   "metadata": {},
   "source": [
    "Note, the calculations online compute the \"gallons per mile\" slope, not miles per gallon. "
   ]
  },
  {
   "cell_type": "code",
   "execution_count": null,
   "metadata": {},
   "outputs": [],
   "source": [
    "# find average m\n",
    "print(miles_driven)\n",
    "#print(miles_driven.mean())\n",
    "# or\n",
    "#print(miles_driven.sum()/len(miles_driven))\n",
    "#print(len(miles_driven))\n",
    "\n",
    "avg_m=miles_driven.sum()/len(miles_driven)\n",
    "print(avg_m)"
   ]
  },
  {
   "cell_type": "code",
   "execution_count": null,
   "metadata": {},
   "outputs": [],
   "source": [
    "m_sqr=miles_driven*miles_driven\n",
    "avg_m_sqr=m_sqr.sum()/len(m_sqr)\n",
    "\n",
    "avg_g=total_gas.sum()/len(total_gas)\n",
    "\n",
    "gm=miles_driven*total_gas\n",
    "avg_gm=gm.sum()/len(gm)"
   ]
  },
  {
   "cell_type": "code",
   "execution_count": null,
   "metadata": {
    "scrolled": true
   },
   "outputs": [],
   "source": [
    "print(\"<m>=\",avg_m)\n",
    "print(\"<m^2>=\",avg_m_sqr)\n",
    "print(\"<g>=\",avg_g)\n",
    "print(\"<g*m>=\",avg_gm)"
   ]
  },
  {
   "cell_type": "code",
   "execution_count": null,
   "metadata": {},
   "outputs": [],
   "source": [
    "intercept=(avg_gm*avg_m-avg_g*avg_m_sqr)/(avg_m*avg_m-avg_m_sqr)\n",
    "print(intercept)"
   ]
  },
  {
   "cell_type": "code",
   "execution_count": null,
   "metadata": {},
   "outputs": [],
   "source": [
    "slope=(avg_g-intercept)/avg_m\n",
    "print(slope)"
   ]
  },
  {
   "cell_type": "code",
   "execution_count": null,
   "metadata": {},
   "outputs": [],
   "source": [
    "1/slope"
   ]
  },
  {
   "cell_type": "markdown",
   "metadata": {},
   "source": [
    "# create a data table with the fit"
   ]
  },
  {
   "cell_type": "code",
   "execution_count": null,
   "metadata": {},
   "outputs": [],
   "source": [
    "m_fit=[]\n",
    "gal_fit=[]\n",
    "for x in range(0,1000,5):\n",
    "    m_fit.append(x)\n",
    "    gal_fit.append(slope*x+intercept)"
   ]
  },
  {
   "cell_type": "code",
   "execution_count": null,
   "metadata": {},
   "outputs": [],
   "source": [
    "plt.plot(m_fit,gal_fit)"
   ]
  },
  {
   "cell_type": "code",
   "execution_count": null,
   "metadata": {},
   "outputs": [],
   "source": [
    "%matplotlib inline\n",
    "import matplotlib.pyplot as plt\n",
    "plt.plot(miles_driven,total_gas,\"o\",label=\"data from Kwik Trip\")\n",
    "plt.plot(m_fit,gal_fit,label=\"linear fit\")\n",
    "plt.ylabel(\"total gas purchased, g, (gal)\")\n",
    "plt.xlabel(\"total miles driven, m, (miles)\")\n",
    "plt.legend()\n",
    "title_text=\"g=%.4f (gal/mile) m + %.4f (gal)\"%(slope,intercept)\n",
    "plt.title(title_text)"
   ]
  },
  {
   "cell_type": "code",
   "execution_count": null,
   "metadata": {},
   "outputs": [],
   "source": []
  }
 ],
 "metadata": {
  "kernelspec": {
   "display_name": "Python 3",
   "language": "python",
   "name": "python3"
  },
  "language_info": {
   "codemirror_mode": {
    "name": "ipython",
    "version": 3
   },
   "file_extension": ".py",
   "mimetype": "text/x-python",
   "name": "python",
   "nbconvert_exporter": "python",
   "pygments_lexer": "ipython3",
   "version": "3.6.5"
  }
 },
 "nbformat": 4,
 "nbformat_minor": 2
}
