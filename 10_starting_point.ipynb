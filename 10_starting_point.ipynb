{
 "cells": [
  {
   "cell_type": "code",
   "execution_count": null,
   "metadata": {},
   "outputs": [],
   "source": [
    "from pandas import *"
   ]
  },
  {
   "cell_type": "code",
   "execution_count": null,
   "metadata": {},
   "outputs": [],
   "source": [
    "data=pandas.read_csv(\"./09_pandas_applications/gas_station.csv\")"
   ]
  },
  {
   "cell_type": "code",
   "execution_count": null,
   "metadata": {},
   "outputs": [],
   "source": [
    "data"
   ]
  },
  {
   "cell_type": "code",
   "execution_count": null,
   "metadata": {},
   "outputs": [],
   "source": [
    "# pull out \"odometer mileage at fill,\" and \"gas to fill the tank\" vectors\n",
    "mileage=data.iloc[:,0]\n",
    "gas=data.iloc[:,1]"
   ]
  },
  {
   "cell_type": "code",
   "execution_count": null,
   "metadata": {},
   "outputs": [],
   "source": [
    "# the miles since last fill vector\n",
    "dm = mileage.iloc[1:].values - mileage.iloc[0:6].values"
   ]
  },
  {
   "cell_type": "code",
   "execution_count": null,
   "metadata": {},
   "outputs": [],
   "source": [
    "# mpg values\n",
    "mpg=dm/gas[1:]\n",
    "# strip out the pandas indexing\n",
    "mpg=mpg.values"
   ]
  },
  {
   "cell_type": "code",
   "execution_count": null,
   "metadata": {},
   "outputs": [],
   "source": [
    "#print out a gas, dm and mpg values in a nice column\n",
    "print(\"fill #\\tmiles \\tgas\\tmpg\")\n",
    "print(\"\\tdriven\\tto fill\")\n",
    "for i in range(len(mpg)):\n",
    "    print(\"%d\\t%d\\t%.3f\\t%.2f\" %(i,dm[i],gas[i],mpg[i]) )"
   ]
  }
 ],
 "metadata": {
  "kernelspec": {
   "display_name": "Python 3",
   "language": "python",
   "name": "python3"
  },
  "language_info": {
   "codemirror_mode": {
    "name": "ipython",
    "version": 3
   },
   "file_extension": ".py",
   "mimetype": "text/x-python",
   "name": "python",
   "nbconvert_exporter": "python",
   "pygments_lexer": "ipython3",
   "version": "3.6.5"
  }
 },
 "nbformat": 4,
 "nbformat_minor": 2
}
