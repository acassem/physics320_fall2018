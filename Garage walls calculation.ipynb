{
 "cells": [
  {
   "cell_type": "markdown",
   "metadata": {},
   "source": [
    "# What sort of garage heater should my dad buy?\n",
    "\n",
    "My dad makes furniture in a shop that's unattached from his house.  For years, he's heated the shop with scrap wood in a wood stove.  Recently, his home insurance premium has risen to \\$2500/year.  He can switch home insurance companies and have a \\$500 annual premium, but, he'll have to remove the wood stove and replace it with one or more electric heaters.\n",
    "\n",
    "The shop is in central Minnesota. He uses the stove from November through March. Electricity costs \\$0.10/kWh.  The shop is 32' by 24', 9' high.  The walls are insulated with 6\" fiberglass batts.  There is one 32\"x80\" door, 6 2'x3' windows, and a double garage door in the first floor.  The garage door is insulated with 2\" of foam.  The windows are approximately R-3.  Relevant climate information lives here: https://weatherspark.com/y/10478/Average-Weather-in-Monticello-Minnesota-United-States-Year-Round\n",
    "\n",
    "## Questions:\n",
    "1. How much power does the shop lose through the walls on a 15F day, if the shop is held at an inside temperature of 60F?\n",
    "2. If paint freezes, it is spoiled for later use.  If my dad leaves on a trip for a week and it gets down to -20F at night, what heater power is necessary to hold the inside temperature at 45F?\n",
    "3. Which heater should my dad buy?  He likes shopping at Menards, https://www.menards.com/main/heating-cooling/heaters/electric-garage-heaters/c-6328.htm\n",
    "4. If the average inside temperature is 60F and the average outside temperature (over the whole heating season, 5 months) is 20F, how much will my dad pay for electricity?  If he switches insurance companies will he save money?"
   ]
  },
  {
   "cell_type": "markdown",
   "metadata": {},
   "source": [
    "This is a sketch of the shop"
   ]
  },
  {
   "cell_type": "code",
   "execution_count": 5,
   "metadata": {},
   "outputs": [
    {
     "name": "stdout",
     "output_type": "stream",
     "text": [
      "the wall surface area of the garage is  245.26402560000002  (m^2)\n"
     ]
    }
   ],
   "source": [
    "meters_per_foot=0.3048\n",
    "height_m=9*meters_per_foot\n",
    "width_m=40*meters_per_foot\n",
    "depth_m=24*meters_per_foot\n",
    "area_walls_m2=2*height_m*width_m+2*depth_m*width_m\n",
    "print(\"the wall surface area of the garage is \",area_walls_m2,\" (m^2)\")"
   ]
  },
  {
   "cell_type": "code",
   "execution_count": 3,
   "metadata": {},
   "outputs": [
    {
     "data": {
      "text/plain": [
       "245.26402560000002"
      ]
     },
     "execution_count": 3,
     "metadata": {},
     "output_type": "execute_result"
    }
   ],
   "source": [
    "area_walls_m2"
   ]
  },
  {
   "cell_type": "markdown",
   "metadata": {},
   "source": [
    "Simplest solution: ignore the garage door, service door, and the windows.  The shop is a box with 2x6 walls of fiberglass.  This is an **underestimate** of the needed power."
   ]
  },
  {
   "cell_type": "code",
   "execution_count": 13,
   "metadata": {},
   "outputs": [
    {
     "name": "stdout",
     "output_type": "stream",
     "text": [
      "The walls have a temperature gradient of  15.555555555555555  to  -9.444444444444445  both deg Celsius\n",
      "This is dT =  25.0 C\n"
     ]
    }
   ],
   "source": [
    "T_in_F=60\n",
    "T_out_F=15\n",
    "T_in_C=(T_in_F-32.0)*5.0/9.0\n",
    "T_out_C=(T_out_F-32.0)*5.0/9.0\n",
    "dT_C=T_in_C-T_out_C\n",
    "print(\"The walls have a temperature gradient of \",T_in_C,\" to \",T_out_C,\" both deg Celsius\")\n",
    "print(\"This is dT = \",dT_C, \"C\")\n"
   ]
  },
  {
   "cell_type": "markdown",
   "metadata": {},
   "source": [
    "If the walls' only insulating value is the fiberglass batts, we can then estimate heat (power) loss with a 1-D version of Fourier's Law, https://en.wikipedia.org/wiki/Thermal_conduction, \n",
    "\n",
    "$\\frac{Q}{dt}=k A \\frac{dT}{dx}$.  \n",
    "\n",
    "The thermal conductivity of fiberglass is pretty good, $k\\approx 0.04 \\frac{W}{m~K}$, See https://www.engineeringtoolbox.com/thermal-conductivity-d_429.html"
   ]
  },
  {
   "cell_type": "code",
   "execution_count": 15,
   "metadata": {},
   "outputs": [
    {
     "name": "stdout",
     "output_type": "stream",
     "text": [
      "using fiberglass wall thickness of  0.1397 (m)\n",
      "power loss estimated to be  1755.6480000000006 (W) or  1.7556480000000005 (kW)\n"
     ]
    }
   ],
   "source": [
    "k_fiberglass_W_mK=0.04\n",
    "dx_in=5.5\n",
    "meters_per_inch=0.0254\n",
    "dx_m=dx_in*meters_per_inch\n",
    "p_W=k_fiberglass_W_mK*area_walls_m2*dT_C/dx_m\n",
    "p_kW = p_W/1000\n",
    "print(\"using fiberglass wall thickness of \",dx_m,\"(m)\")\n",
    "print(\"power loss estimated to be \",p_W,\"(W) or \",p_W/1000,\"(kW)\")"
   ]
  },
  {
   "cell_type": "markdown",
   "metadata": {},
   "source": [
    "How much will this cost?"
   ]
  },
  {
   "cell_type": "code",
   "execution_count": 17,
   "metadata": {},
   "outputs": [
    {
     "name": "stdout",
     "output_type": "stream",
     "text": [
      "estimated seasonal use is  6320.332800000002  (kWh)\n",
      "cost:  632.0332800000002 USD\n"
     ]
    }
   ],
   "source": [
    "# 5x30 day months\n",
    "time_hrs=5*30*24\n",
    "rate=0.1 # $/kWh\n",
    "energy_kWh=time_hrs*p_kW\n",
    "energy_cost=energy_kWh*rate\n",
    "print(\"estimated seasonal use is \",energy_kWh,\" (kWh)\")\n",
    "print(\"cost: \",energy_cost,\"USD\")"
   ]
  },
  {
   "cell_type": "markdown",
   "metadata": {},
   "source": [
    "## Improvement: doors and windows\n",
    "\n",
    "Metal service doors are normally filled with styrofoam, which has a thermal conductivity of $k=0.033 W/m~K$.  We can model the garage and service doors then as being 2\" thick blocks of styrofoam.  Note, this model doesn't include the effects of drafts through the door. "
   ]
  },
  {
   "cell_type": "markdown",
   "metadata": {},
   "source": [
    "Similarly, we can model the windows as 6 2' squares with R-value of 2.  Note, this R-value is in \"standard\" inch-pound-BTU units. The relevant conversions are:\n",
    "\n",
    "Heat conduction: $\\frac{Q}{dt}=k A \\frac{dT}{dx} = \\frac{1}{R}A~ dT$, so $\\frac{k}{dx}=\\frac{1}{R}$.   \n",
    "\n",
    "In the SI system, R-SI has units $\\frac{m^2~K}{W}$, in the inch-pound (Menards) system, R-IP has units $\\frac{ft^2~F~h}{BTU}$.\n",
    "\n",
    "Also, RSI-value (in SI) = R-value (in I-P) × 0.1761101838\n",
    "\n",
    "reference: https://en.wikipedia.org/wiki/R-value_(insulation)\n"
   ]
  },
  {
   "cell_type": "code",
   "execution_count": null,
   "metadata": {},
   "outputs": [],
   "source": []
  }
 ],
 "metadata": {
  "kernelspec": {
   "display_name": "Python 3",
   "language": "python",
   "name": "python3"
  },
  "language_info": {
   "codemirror_mode": {
    "name": "ipython",
    "version": 3
   },
   "file_extension": ".py",
   "mimetype": "text/x-python",
   "name": "python",
   "nbconvert_exporter": "python",
   "pygments_lexer": "ipython3",
   "version": "3.6.5"
  }
 },
 "nbformat": 4,
 "nbformat_minor": 2
}
