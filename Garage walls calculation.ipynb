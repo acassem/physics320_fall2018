{
 "cells": [
  {
   "cell_type": "markdown",
   "metadata": {},
   "source": [
    "# What sort of garage heater should my dad buy?\n",
    "\n",
    "My dad makes furniture in a shop that's unattached from his house.  For years, he's heated the shop with scrap wood in a wood stove.  Recently, his home insurance premium has risen to \\$2500/year.  He can switch home insurance companies and have a \\$500 annual premium, but, he'll have to remove the wood stove and replace it with one or more electric heaters.\n",
    "\n",
    "The shop is in central Minnesota. He uses the stove from November through March. Electricity costs \\$0.10/kWh.  The shop is 40' by 24', 9' high.  The walls are insulated with 6\" fiberglass batts.  There is one 32\"x80\" door, 6 2'x2' windows, and a double garage door in the first floor.  The garage door is insulated with 2\" of foam.  The windows are approximately R-2.  Relevant climate information lives here: https://weatherspark.com/y/10478/Average-Weather-in-Monticello-Minnesota-United-States-Year-Round\n",
    "\n",
    "## Questions:\n",
    "1. How much power does the shop lose through the walls on a 15F day, if the shop is held at an inside temperature of 60F?\n",
    "2. If paint freezes, it is spoiled for later use.  If my dad leaves on a trip for a week and it gets down to -20F at night, what heater power is necessary to hold the inside temperature at 45F?\n",
    "3. Which heater should my dad buy?  He likes shopping at Menards, https://www.menards.com/main/heating-cooling/heaters/electric-garage-heaters/c-6328.htm\n",
    "4. If the average inside temperature is 60F and the average outside temperature (over the whole heating season, 5 months) is 20F, how much will my dad pay for electricity?  If he switches insurance companies will he save money?"
   ]
  },
  {
   "cell_type": "markdown",
   "metadata": {},
   "source": [
    "# TBD: This is a sketch of the shop"
   ]
  },
  {
   "cell_type": "code",
   "execution_count": 43,
   "metadata": {},
   "outputs": [
    {
     "name": "stdout",
     "output_type": "stream",
     "text": [
      "the wall surface area of the garage is  245.26402560000002  (m^2)\n",
      "The roof has area 89.18691840000001 (m^2)\n"
     ]
    }
   ],
   "source": [
    "meters_per_foot=0.3048\n",
    "height_m=9*meters_per_foot\n",
    "width_m=40*meters_per_foot\n",
    "depth_m=24*meters_per_foot\n",
    "area_walls_m2=2*height_m*width_m+2*depth_m*width_m\n",
    "A_roof_m2=width_m*depth_m\n",
    "print(\"the wall surface area of the garage is \",area_walls_m2,\" (m^2)\")\n",
    "print(\"The roof has area\",A_roof_m2,\"(m^2)\")\n"
   ]
  },
  {
   "cell_type": "code",
   "execution_count": 2,
   "metadata": {},
   "outputs": [
    {
     "data": {
      "text/plain": [
       "245.26402560000002"
      ]
     },
     "execution_count": 2,
     "metadata": {},
     "output_type": "execute_result"
    }
   ],
   "source": [
    "area_walls_m2"
   ]
  },
  {
   "cell_type": "markdown",
   "metadata": {},
   "source": [
    "Simplest solution: ignore the garage door, service door, and the windows. Also ignore the roof (heat floats up to 2nd floor, which is well insulated and thus not a big loss).  The shop is a box with 2x6 walls of fiberglass.  This is an **underestimate** of the needed power."
   ]
  },
  {
   "cell_type": "code",
   "execution_count": 3,
   "metadata": {},
   "outputs": [
    {
     "name": "stdout",
     "output_type": "stream",
     "text": [
      "The walls have a temperature gradient of  15.555555555555555  to  -9.444444444444445  both deg Celsius\n",
      "This is dT =  25.0 C\n"
     ]
    }
   ],
   "source": [
    "T_in_F=60\n",
    "T_out_F=15\n",
    "T_in_C=(T_in_F-32.0)*5.0/9.0\n",
    "T_out_C=(T_out_F-32.0)*5.0/9.0\n",
    "dT_C=T_in_C-T_out_C\n",
    "print(\"The walls have a temperature gradient of \",T_in_C,\" to \",T_out_C,\" both deg Celsius\")\n",
    "print(\"This is dT = \",dT_C, \"C\")\n"
   ]
  },
  {
   "cell_type": "markdown",
   "metadata": {},
   "source": [
    "If the walls' only insulating value is the fiberglass batts, we can then estimate heat (power) loss with a 1-D version of Fourier's Law, https://en.wikipedia.org/wiki/Thermal_conduction, \n",
    "\n",
    "$\\frac{Q}{dt}=k A \\frac{dT}{dx}$.  \n",
    "\n",
    "The thermal conductivity of fiberglass is pretty good, $k\\approx 0.04 \\frac{W}{m~K}$, See https://www.engineeringtoolbox.com/thermal-conductivity-d_429.html"
   ]
  },
  {
   "cell_type": "code",
   "execution_count": 11,
   "metadata": {},
   "outputs": [
    {
     "name": "stdout",
     "output_type": "stream",
     "text": [
      "using fiberglass wall thickness of  0.1397 (m)\n",
      "power loss estimated to be  1755.6480000000006 (W) or  1.7556480000000005 (kW)\n"
     ]
    }
   ],
   "source": [
    "k_fiberglass_W_mK=0.04\n",
    "dx_in=5.5\n",
    "meters_per_inch=0.0254\n",
    "dx_m=dx_in*meters_per_inch\n",
    "p_W=k_fiberglass_W_mK*area_walls_m2*dT_C/dx_m\n",
    "p_kW = p_W/1000\n",
    "print(\"using fiberglass wall thickness of \",dx_m,\"(m)\")\n",
    "print(\"power loss estimated to be \",p_W,\"(W) or \",p_W/1000,\"(kW)\")"
   ]
  },
  {
   "cell_type": "markdown",
   "metadata": {},
   "source": [
    "How much will this cost?"
   ]
  },
  {
   "cell_type": "code",
   "execution_count": 12,
   "metadata": {},
   "outputs": [
    {
     "name": "stdout",
     "output_type": "stream",
     "text": [
      "estimated seasonal use is  6320.332800000002  (kWh)\n",
      "cost:  632.0332800000002 USD\n"
     ]
    }
   ],
   "source": [
    "# 5x30 day months\n",
    "time_hrs=5*30*24\n",
    "rate=0.1 # $/kWh\n",
    "energy_kWh=time_hrs*p_kW\n",
    "energy_cost=energy_kWh*rate\n",
    "print(\"estimated seasonal use is \",energy_kWh,\" (kWh)\")\n",
    "print(\"cost: \",energy_cost,\"USD\")"
   ]
  },
  {
   "cell_type": "markdown",
   "metadata": {},
   "source": [
    "## Improvement: doors, windows, and roof\n",
    "\n",
    "Metal service doors are normally filled with styrofoam, which has a thermal conductivity of $k=0.033 W/m~K$.  We can model the garage and service doors then as being 2\" thick blocks of styrofoam.  Note, this model doesn't include the effects of drafts through the door. "
   ]
  },
  {
   "cell_type": "markdown",
   "metadata": {},
   "source": [
    "Similarly, we can model the windows as 6 2' squares with R-value of 2.  Note, this R-value is in \"standard\" inch-pound-BTU units. The relevant conversions are:\n",
    "\n",
    "Heat conduction: $\\frac{Q}{dt}=k A \\frac{dT}{dx} = \\frac{1}{R}A~ dT$, so $\\frac{k}{dx}=\\frac{1}{R}$.   \n",
    "\n",
    "In the SI system, R-SI has units $\\frac{m^2~K}{W}$, in the inch-pound (Menards) system, R-IP has units $\\frac{ft^2~F~h}{BTU}$.\n",
    "\n",
    "Also, RSI-value (in SI) = R-value (in I-P) × 0.1761101838\n",
    "\n",
    "reference: https://en.wikipedia.org/wiki/R-value_(insulation)\n"
   ]
  },
  {
   "cell_type": "code",
   "execution_count": 44,
   "metadata": {},
   "outputs": [
    {
     "name": "stdout",
     "output_type": "stream",
     "text": [
      "The door has area 1.6516096 (m^2)\n",
      "The garage door has area 10.40514048 (m^2)\n"
     ]
    }
   ],
   "source": [
    "# for the doors\n",
    "k_foam_W_mK=0.033\n",
    "dx_foam_m=2*meters_per_inch\n",
    "A_door_m2=(32*80)*meters_per_inch**2\n",
    "#assuming 16' by 7' double garage door\n",
    "A_garage_door_m2=(16*7*12*12)*meters_per_inch**2\n",
    "print(\"The door has area\",A_door_m2,\"(m^2)\")\n",
    "print(\"The garage door has area\",A_garage_door_m2,\"(m^2)\")"
   ]
  },
  {
   "cell_type": "markdown",
   "metadata": {},
   "source": [
    "Then, using the temperature difference from above, compute heat loss through the doors:"
   ]
  },
  {
   "cell_type": "code",
   "execution_count": 45,
   "metadata": {},
   "outputs": [
    {
     "name": "stdout",
     "output_type": "stream",
     "text": [
      "door power loss: 26.822400000000002 (W)\n",
      "garage door power loss: 168.98112000000003 (W)\n"
     ]
    }
   ],
   "source": [
    "P_door_W=k_foam_W_mK*A_door_m2*dT_C/dx_foam_m\n",
    "print(\"door power loss:\",P_door_W,\"(W)\")\n",
    "\n",
    "P_garage_door_W=k_foam_W_mK*A_garage_door_m2*dT_C/dx_foam_m\n",
    "print(\"garage door power loss:\",P_garage_door_W,\"(W)\")"
   ]
  },
  {
   "cell_type": "markdown",
   "metadata": {},
   "source": [
    "For the windows, recall $\\frac{Q}{dt}=\\frac{1}{R}~A~ dT$:"
   ]
  },
  {
   "cell_type": "code",
   "execution_count": 46,
   "metadata": {},
   "outputs": [
    {
     "name": "stdout",
     "output_type": "stream",
     "text": [
      "The windows have an R-SI value of 0.3522203676\n",
      "each window has an area of  0.37161215999999997 (m^2)\n",
      "each window loses  26.376396297872695 (W)\n",
      "total (6) window loss is 158.25837778723616 (W)\n"
     ]
    }
   ],
   "source": [
    "# for the windows\n",
    "R_window_IP=2\n",
    "R_window_SI=R_window_IP*0.1761101838\n",
    "print(\"The windows have an R-SI value of\",R_window_SI)\n",
    "A_window_m2=(2*2*12*12)*meters_per_inch**2\n",
    "print(\"each window has an area of \",A_window_m2,\"(m^2)\")\n",
    "\n",
    "P_window_W=(A_window_m2/R_window_SI)*dT_C\n",
    "print(\"each window loses \",P_window_W,\"(W)\")\n",
    "P_6window_W=6*P_window_W\n",
    "print(\"total (6) window loss is\",P_6window_W,\"(W)\")"
   ]
  },
  {
   "cell_type": "markdown",
   "metadata": {},
   "source": [
    "Including the windows and doors means that the loss through the walls needs to be recomputed (with smaller area)."
   ]
  },
  {
   "cell_type": "code",
   "execution_count": 48,
   "metadata": {},
   "outputs": [
    {
     "name": "stdout",
     "output_type": "stream",
     "text": [
      "revised estimate: power lost through walls:  1653.3829818181823 (W)\n"
     ]
    }
   ],
   "source": [
    "area_cutouts_m2=6*A_window_m2+A_door_m2+A_garage_door_m2\n",
    "\n",
    "P_walls_W=k_fiberglass_W_mK*(area_walls_m2-area_cutouts_m2)*dT_C/dx_m\n",
    "\n",
    "print(\"revised estimate: power lost through walls: \",P_walls_W,\"(W)\")\n"
   ]
  },
  {
   "cell_type": "markdown",
   "metadata": {},
   "source": [
    "Finally, include the roof, which we'll model as a simple 6\" plate of fiberglass."
   ]
  },
  {
   "cell_type": "code",
   "execution_count": 53,
   "metadata": {},
   "outputs": [
    {
     "name": "stdout",
     "output_type": "stream",
     "text": [
      "power lost through roof:  638.4174545454547 (W)\n"
     ]
    }
   ],
   "source": [
    "dx_roof_m=5.5*meters_per_inch\n",
    "P_roof_W=k_fiberglass_W_mK*A_roof_m2*dT_C/dx_roof_m\n",
    "\n",
    "print(\"power lost through roof: \",P_roof_W,\"(W)\")\n"
   ]
  },
  {
   "cell_type": "markdown",
   "metadata": {},
   "source": [
    "Summary:"
   ]
  },
  {
   "cell_type": "code",
   "execution_count": 54,
   "metadata": {},
   "outputs": [
    {
     "name": "stdout",
     "output_type": "stream",
     "text": [
      "Summary: Power losses in Watts\n",
      "Walls:  1653.3829818181823\n",
      "6 windows:  158.25837778723616\n",
      "service door:  26.822400000000002\n",
      "garage door:  168.98112000000003\n",
      "roof:  638.4174545454547\n",
      "Total:  2645.8623341508733\n"
     ]
    }
   ],
   "source": [
    "print(\"Summary: Power losses in Watts\")\n",
    "print(\"Walls: \",P_walls_W)\n",
    "print(\"6 windows: \",P_6window_W)\n",
    "print(\"service door: \",P_door_W)\n",
    "print(\"garage door: \",P_garage_door_W)\n",
    "print(\"roof: \",P_roof_W)\n",
    "P_total_W=P_walls_W+P_6window_W+P_door_W+P_garage_door_W+P_roof_W\n",
    "print(\"Total: \",P_total_W)"
   ]
  },
  {
   "cell_type": "markdown",
   "metadata": {},
   "source": [
    "## Revised: How much will this cost?"
   ]
  },
  {
   "cell_type": "code",
   "execution_count": 75,
   "metadata": {},
   "outputs": [
    {
     "name": "stdout",
     "output_type": "stream",
     "text": [
      "estimated seasonal use is  9525.104402943143  (kWh)\n",
      "cost:  952.5104402943143 USD\n"
     ]
    }
   ],
   "source": [
    "# 5x30 day months\n",
    "time_hrs=5*30*24\n",
    "rate=0.1 # $/kWh\n",
    "energy_kWh=time_hrs*(P_total_W/1000)\n",
    "energy_cost=energy_kWh*rate\n",
    "print(\"estimated seasonal use is \",energy_kWh,\" (kWh)\")\n",
    "print(\"cost: \",energy_cost,\"USD\")"
   ]
  },
  {
   "cell_type": "markdown",
   "metadata": {},
   "source": [
    "## How does the power loss depend on the outside temperature?\n",
    "\n",
    "In the calculation so far the temperature difference across the wall has been held at 65F inside, 20F outside.  The temperatures  enter the calculation as a difference, so one useful summary of the calculation is to list the power loss as a function of the temperature gradient across the wall.  Mathematically, this looks like:\n",
    "\n",
    "$\\frac{Q}{dt}=\n",
    "\\left(\\frac{1}{R}~A\\right)_{window}~ dT+\\left(\\frac{k~A}{dx}\\right)_{Walls}~dT+\\left(\\frac{k~A}{dx}\\right)_{door}~dT+\\left(\\frac{k~A}{dx}\\right)_{Garage~door}~dT+\\left(\\frac{k~A}{dx}\\right)_{roof}~dT$\n",
    "\n",
    "or\n",
    "\n",
    "$\\frac{Q}{dt}=\n",
    "\\left[\n",
    "\\left(\\frac{1}{R}~A\\right)_{window}+\\left(\\frac{k~A}{dx}\\right)_{Walls}\n",
    "+\\left(\\frac{k~A}{dx}\\right)_{door}+\\left(\\frac{k~A}{dx}\\right)_{Garage~door}\n",
    "+\\left(\\frac{k~A}{dx}\\right)_{roof}\n",
    "\\right] \\cdot dT$\n",
    "\n",
    "In heat transfer courses, this problem is formulated as a bunch of resistors in parallel.  The temperature difference is like a voltage and the heat flow is like a current.  The analogy goes as far as to call the $\\left(\\frac{k~A}{dx}\\right)_{Walls}$ term \"Thermal Resistance\" with the following \"circuit\" diagram."
   ]
  },
  {
   "cell_type": "markdown",
   "metadata": {},
   "source": [
    "# Need a sketch of thermal circuit flow diagram. "
   ]
  },
  {
   "cell_type": "markdown",
   "metadata": {},
   "source": [
    "In practice, a graph of power loss vs temperature is a nice way to summarize the result.  "
   ]
  },
  {
   "cell_type": "code",
   "execution_count": 55,
   "metadata": {},
   "outputs": [],
   "source": [
    "T_R_walls=k_fiberglass_W_mK*(area_walls_m2-area_cutouts_m2)/dx_m\n",
    "T_R_door=k_foam_W_mK*A_door_m2/dx_foam_m\n",
    "T_R_garage_door=k_foam_W_mK*A_garage_door_m2/dx_foam_m\n",
    "T_R_6window=6.0*(A_window_m2/R_window_SI)\n",
    "T_R_roof=k_fiberglass_W_mK*A_roof_m2/dx_roof_m\n",
    "total_thermal_resistance=T_R_walls+T_R_door+T_R_garage_door+T_R_6window+T_R_roof\n",
    "dT_vals_C=[]\n",
    "dT_vals_F=[]\n",
    "P_vals_kW=[]\n",
    "BTU_p_hr_per_W=3.412\n",
    "P_vals_BTU_p_hr=[]\n",
    "for dT in range(0,50):\n",
    "    dT_vals_C.append(dT)\n",
    "    dT_vals_F.append(dT*9.0/5.0)\n",
    "    P_W=total_thermal_resistance*dT\n",
    "    P_vals_kW.append(P_W/1000)\n",
    "    P_vals_BTU_p_hr.append(P_W*BTU_p_hr_per_W)"
   ]
  },
  {
   "cell_type": "code",
   "execution_count": 56,
   "metadata": {},
   "outputs": [],
   "source": [
    "%matplotlib inline\n",
    "import matplotlib.pyplot as plt"
   ]
  },
  {
   "cell_type": "code",
   "execution_count": 57,
   "metadata": {},
   "outputs": [
    {
     "data": {
      "text/plain": [
       "Text(0,0.5,'Power Loss (kW)')"
      ]
     },
     "execution_count": 57,
     "metadata": {},
     "output_type": "execute_result"
    },
    {
     "data": {
      "image/png": "[encoded data removed]",
      "text/plain": [
       "<Figure size 432x288 with 1 Axes>"
      ]
     },
     "metadata": {},
     "output_type": "display_data"
    }
   ],
   "source": [
    "plt.plot(dT_vals_C,P_vals_kW)\n",
    "plt.xlabel(\"temperature difference (C)\")\n",
    "plt.ylabel(\"Power Loss (kW)\")"
   ]
  },
  {
   "cell_type": "code",
   "execution_count": 58,
   "metadata": {},
   "outputs": [
    {
     "data": {
      "text/plain": [
       "Text(0,0.5,'Power Loss (BTU/hr)')"
      ]
     },
     "execution_count": 58,
     "metadata": {},
     "output_type": "execute_result"
    },
    {
     "data": {
      "image/png": "[encoded data removed]",
      "text/plain": [
       "<Figure size 432x288 with 1 Axes>"
      ]
     },
     "metadata": {},
     "output_type": "display_data"
    }
   ],
   "source": [
    "plt.plot(dT_vals_F,P_vals_BTU_p_hr)\n",
    "plt.xlabel(\"temperature difference (F)\")\n",
    "plt.ylabel(\"Power Loss (BTU/hr)\")"
   ]
  },
  {
   "cell_type": "raw",
   "metadata": {},
   "source": [
    "Or, tell the same story with an inside temperature of 60F"
   ]
  },
  {
   "cell_type": "code",
   "execution_count": 71,
   "metadata": {},
   "outputs": [
    {
     "data": {
      "text/plain": [
       "Text(0.5,1,'If the inside temperarure is 60F, heat loss is:')"
      ]
     },
     "execution_count": 71,
     "metadata": {},
     "output_type": "execute_result"
    },
    {
     "data": {
      "image/png": "[encoded data removed]",
      "text/plain": [
       "<Figure size 432x288 with 1 Axes>"
      ]
     },
     "metadata": {},
     "output_type": "display_data"
    }
   ],
   "source": [
    "TF_out_vals = [60-x for x in dT_vals_F]\n",
    "plt.plot(TF_out_vals,P_vals_BTU_p_hr)\n",
    "plt.xlabel(\"outside temperature (F)\")\n",
    "plt.ylabel(\"Power Loss (BTU/hr)\")\n",
    "plt.title(\"If the inside temperarure is 60F, heat loss is:\")"
   ]
  },
  {
   "cell_type": "code",
   "execution_count": 73,
   "metadata": {},
   "outputs": [
    {
     "data": {
      "text/plain": [
       "Text(0.5,1,'If the inside temperarure is 60F, heat loss is:')"
      ]
     },
     "execution_count": 73,
     "metadata": {},
     "output_type": "execute_result"
    },
    {
     "data": {
      "image/png": "[encoded data removed]",
      "text/plain": [
       "<Figure size 432x288 with 1 Axes>"
      ]
     },
     "metadata": {},
     "output_type": "display_data"
    }
   ],
   "source": [
    "plt.plot(TF_out_vals,P_vals_kW)\n",
    "plt.xlabel(\"outside temperature (F)\")\n",
    "plt.ylabel(\"Power Loss (kW)\")\n",
    "plt.title(\"If the inside temperarure is 60F, heat loss is:\")"
   ]
  },
  {
   "cell_type": "code",
   "execution_count": null,
   "metadata": {},
   "outputs": [],
   "source": [
    "# Improvements to be made:\n",
    "1. extra energy costs at N air changes per hour (to account for drafts).\n",
    "2. 2nd floor is 24'x24'x9' w/ 6\" insulation.\n",
    "3. How dows the garage respond when you turn the heater up by 10F (model as an air+tablesaw lumped system).\n"
   ]
  }
 ],
 "metadata": {
  "kernelspec": {
   "display_name": "Python 3",
   "language": "python",
   "name": "python3"
  },
  "language_info": {
   "codemirror_mode": {
    "name": "ipython",
    "version": 3
   },
   "file_extension": ".py",
   "mimetype": "text/x-python",
   "name": "python",
   "nbconvert_exporter": "python",
   "pygments_lexer": "ipython3",
   "version": "3.6.5"
  }
 },
 "nbformat": 4,
 "nbformat_minor": 2
}
